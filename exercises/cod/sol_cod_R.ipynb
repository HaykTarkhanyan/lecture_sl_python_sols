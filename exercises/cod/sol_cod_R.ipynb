{
 "cells": [
  {
   "cell_type": "code",
   "execution_count": 1,
   "id": "089a3f33",
   "metadata": {
    "vscode": {
     "languageId": "r"
    }
   },
   "outputs": [
    {
     "data": {
      "image/png": "[encoded data removed]",
      "text/plain": [
       "Plot with title \"Variance Inner Products\""
      ]
     },
     "metadata": {
      "image/png": {
       "height": 420,
       "width": 420
      }
     },
     "output_type": "display_data"
    }
   ],
   "source": [
    "# load library to sample from multivariate normal distribution\n",
    "library(mvtnorm)\n",
    "\n",
    "# compute average euclidean length of a matrix x (rows = samples)\n",
    "average_euclidean_length <- function(x){\n",
    "  mean(apply(x,1,norm,type=\"2\"))\n",
    "}\n",
    "\n",
    "# compute variance of euclidean lengths of a matrix x (rows = samples)\n",
    "variance_euclidean_length <- function(x){\n",
    "  var(apply(x,1,norm,type=\"2\"))\n",
    "}\n",
    "\n",
    "# compute average euclidean distances between matrices x and x2 (rows = samples)\n",
    "average_euclidean_distances <- function(x,x2){\n",
    "  z = c()\n",
    "  for (i in 1:nrow(x)){\n",
    "    z = rbind(z,x[i,]-x2)\n",
    "  }\n",
    "  mean(apply(z,1,norm,type=\"2\"))\n",
    "}\n",
    "\n",
    "# compute variance of euclidean distances between matrices x and x2 \n",
    "variance_euclidean_distances <- function(x,x2){\n",
    "  z = c()\n",
    "  for (i in 1:nrow(x)){\n",
    "    z = rbind(z,x[i,]-x2)\n",
    "  }\n",
    "  var(apply(z,1,norm,type=\"2\"))\n",
    "}\n",
    "\n",
    "# compute average inner products between matrices x and x2 (rows = samples)\n",
    "average_inner_product <- function(x,x2){\n",
    "  z = c()\n",
    "  for (i in 1:nrow(x)){\n",
    "    z = rbind(z,x2%*%x[i,])\n",
    "  }\n",
    "  mean(z)\n",
    "}\n",
    "\n",
    "# compute varaince of inner products between matrices x and x2 (rows = samples)\n",
    "variance_inner_product <- function(x,x2){\n",
    "  z = c()\n",
    "  for (i in 1:nrow(x)){\n",
    "    z = rbind(z,x2%*%x[i,])\n",
    "  }\n",
    "  var(z)\n",
    "}\n",
    "\n",
    "\n",
    "set.seed(5)\n",
    "\n",
    "p_range         <- 2^seq(0,10)\n",
    "\n",
    "avg_eucl_length <- c()\n",
    "var_eucl_length <- c()\n",
    "avg_eucl_dist   <- c()\n",
    "var_eucl_dist   <- c()\n",
    "avg_inner_prod  <- c()\n",
    "var_inner_prod  <- c()\n",
    "\n",
    "n = 100\n",
    "\n",
    "for (p in p_range){\n",
    "  \n",
    "  x               <- rmvnorm(n=n, mean=rep(0,p), sigma=diag(p))\n",
    "  x2              <- rmvnorm(n=n, mean=rep(0,p), sigma=diag(p))\n",
    "  \n",
    "  avg_eucl_length <- c(avg_eucl_length,average_euclidean_length(x))\n",
    "  var_eucl_length <- c(var_eucl_length,variance_euclidean_length(x))\n",
    "  avg_eucl_dist   <- c(avg_eucl_dist,average_euclidean_distances(x,x2))\n",
    "  var_eucl_dist   <- c(var_eucl_dist,variance_euclidean_distances(x,x2))\n",
    "  avg_inner_prod  <- c(avg_inner_prod,average_inner_product(x,x2))\n",
    "  var_inner_prod  <- c(var_inner_prod,variance_inner_product(x,x2))\n",
    "  \n",
    "  \n",
    "}\n",
    " \n",
    "# compare the results visually\n",
    "par(mfrow=c(2,3))\n",
    "\n",
    "plot(p_range,avg_eucl_length,type=\"l\",main=\"Average Euclidean Length\",xlab=\"p\",ylab=\"\")\n",
    "lines(p_range,sqrt(p_range),col=2,lty=2)\n",
    "\n",
    "plot(p_range,avg_eucl_dist,type=\"l\",main=\"Average Euclidean Distances\",xlab=\"p\",ylab=\"\")\n",
    "lines(p_range,sqrt(2*p_range),col=2,lty=2)\n",
    "\n",
    "plot(p_range,avg_inner_prod,type=\"l\",main=\"Average Inner Products\",xlab=\"p\",ylab=\"\")\n",
    "abline(h=0,col=2)\n",
    "\n",
    "plot(p_range,var_eucl_length,type=\"l\",main=\"Variance Euclidean Length\",xlab=\"p\",ylab=\"\",ylim=c(0,2))\n",
    "abline(h=2,col=2)\n",
    "\n",
    "plot(p_range,var_eucl_dist,type=\"l\",main=\"Variance Euclidean Distances\",xlab=\"p\",ylab=\"\",ylim=c(0,4))\n",
    "abline(h=2,col=2)\n",
    "\n",
    "plot(p_range,var_inner_prod,type=\"l\",main=\"Variance Inner Products\",xlab=\"p\",ylab=\"\")\n",
    "lines(p_range,p_range,col=2,lty=2)\n"
   ]
  },
  {
   "cell_type": "markdown",
   "id": "e125d855",
   "metadata": {},
   "source": [
    "INSERT_text1 _______ INSERT_text2 \n",
    "\n",
    "INSERT_text3"
   ]
  },
  {
   "cell_type": "markdown",
   "id": "69f1dac4",
   "metadata": {},
   "source": []
  },
  {
   "cell_type": "code",
   "execution_count": null,
   "id": "ab57b6d7",
   "metadata": {
    "vscode": {
     "languageId": "r"
    }
   },
   "outputs": [],
   "source": []
  }
 ],
 "metadata": {
  "kernelspec": {
   "display_name": "R",
   "language": "R",
   "name": "ir"
  },
  "language_info": {
   "codemirror_mode": "r",
   "file_extension": ".r",
   "mimetype": "text/x-r-source",
   "name": "R",
   "pygments_lexer": "r",
   "version": "4.4.1"
  }
 },
 "nbformat": 4,
 "nbformat_minor": 5
}
