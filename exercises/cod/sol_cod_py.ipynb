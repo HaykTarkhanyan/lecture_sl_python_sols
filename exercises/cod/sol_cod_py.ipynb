{
 "cells": [
  {
   "cell_type": "markdown",
   "id": "6602179c",
   "metadata": {},
   "source": [
    "   INSERT_text2"
   ]
  },
  {
   "cell_type": "markdown",
   "id": "b925368e",
   "metadata": {},
   "source": [
    "This is a Test2 ..... \n",
    "\n",
    "INSERT_text1 -"
   ]
  }
 ],
 "metadata": {
  "language_info": {
   "name": "python"
  }
 },
 "nbformat": 4,
 "nbformat_minor": 5
}
