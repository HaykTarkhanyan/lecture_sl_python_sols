{
  "cells": [
    {
      "cell_type": "markdown",
      "metadata": {},
      "source": [
        "# Exercise:\n",
        "\n",
        "The dataset $\\texttt{forbes}$ in the R-package $\\texttt{MASS}$ contains\n",
        "17 different observations of $y$ and $x$ at different locations in the\n",
        "Alps and Scotland, i.e., the data set is $(x^{(i)},y^{(i)})_{i=1}^{17}.$\n",
        "Analyze whether his conjecture was reasonable by using the following\n",
        "code snippet:"
      ],
      "id": "26c6c400-76b9-4da0-a2a0-441709ecfa16"
    },
    {
      "cell_type": "code",
      "execution_count": null,
      "metadata": {
        "vscode": {
          "languageId": "r"
        }
      },
      "outputs": [],
      "source": [
        "#' @param X the feature input matrix X\n",
        "#' @param y the outcome vector y\n",
        "#' @param theta parameter vector for the model (2-dimensional)\n",
        "        \n",
        "# Load MASS and data set forbes\n",
        "library(MASS)\n",
        "data(forbes)\n",
        "attach(forbes)\n",
        "\n",
        "# initialize the data set\n",
        "X = cbind(rep(1,17),bp)\n",
        "y = pres\n",
        "\n",
        "#' function to represent your models via the parameter vector theta = c(theta_1, theta_2)\n",
        "#' @return a predicted label y_hat for x\n",
        "f <- function(x, theta){\n",
        " \n",
        "  # >>> do something <<<\n",
        "  \n",
        "  return(y_hat)\n",
        "  \n",
        "}\n",
        "        \n",
        "#' @return a vector consisting of the optimal  parameter vector \n",
        "optim_coeff <- function(X,y){\n",
        " \n",
        "  # >>> do something <<<\n",
        "  \n",
        "  return(theta)\n",
        "  \n",
        "}\n",
        " \n",
        "# >>>  Do something here to check Forbes' conjecture <<<"
      ],
      "id": "exercise"
    },
    {
      "cell_type": "markdown",
      "metadata": {},
      "source": [
        "$\\emph{Hint:}$ As a sanity check whether your function to find the\n",
        "optimal coefficients work, it should hold that\n",
        "$\\hat\\theta_1 \\approx 0.3787548$ and $\\hat\\theta_2 \\approx 0.02062236.$\n",
        "\n",
        "# Solution:\n",
        "\n",
        "## Defining the model equation\n",
        "\n",
        "$$\n",
        "    y = \\theta_1 \\exp(\\theta_2 x)\n",
        "$$"
      ],
      "id": "36e9af14-530a-44e7-b63d-37a9dbfb6775"
    },
    {
      "cell_type": "code",
      "execution_count": 4,
      "metadata": {
        "vscode": {
          "languageId": "r"
        }
      },
      "outputs": [],
      "source": [
        "#' function to represent your models via the parameter vector theta = c(theta_1, theta_2)\n",
        "#' @return a predicted label y_hat for x\n",
        "f <- function(x, theta){\n",
        "  # Recall that x[1] is always 1 and x[2] is the feature value (bp)\n",
        "  y_hat <- theta[1] * exp(theta[2]*x[2])\n",
        "  \n",
        "  return(y_hat)\n",
        "}\n"
      ],
      "id": "model_equation"
    },
    {
      "cell_type": "markdown",
      "metadata": {},
      "source": [
        "## Optimal coefficients\n",
        "\n",
        "We need to minimize the empirical risk. Recall that since we’re using\n",
        "the generalized L2-loss we have: $$\n",
        " L\\left(y, f(\\mathbf{x ~|~ \\bm{\\theta} })\\right)= \\big(\\log(y)-\\log(f(\\mathbf{x ~|~ \\bm{\\theta}}))\\big)^2\n",
        "$$\n",
        "\n",
        "and the empirical risk is given by: $$\n",
        "    \\mathcal{R}_{\\text{emp}}(\\bm{\\theta}) = \\sum_{i=1}^{n} L\\left(y^{(i)}, f(\\mathbf{x}^{(i)} ~|~ \\bm{\\theta})\\right)\n",
        "$$\n",
        "\n",
        "For the optimization we will use the L-BFGS (Limited-memory BFGS)\n",
        "method. You can learn more about it\n",
        "[here](https://en.wikipedia.org/wiki/Limited-memory_BFGS). Also, you can\n",
        "refer to our [optimization\n",
        "course](https://slds-lmu.github.io/website_optimization/) to get the\n",
        "idea of second-order methods, learns the concept of symmetric rank-1\n",
        "update and the BFGS method."
      ],
      "id": "57ac84d4-c9cf-4db8-9798-87b4352065dd"
    },
    {
      "cell_type": "code",
      "execution_count": null,
      "metadata": {
        "vscode": {
          "languageId": "r"
        }
      },
      "outputs": [
        {
          "output_type": "stream",
          "name": "stdout",
          "text": [
            "hat_theta =  0.3805097 0.02059961"
          ]
        }
      ],
      "source": [
        "#' @return a vector consisting of the optimal parameter vector \n",
        "optim_coeff <- function(X,y){\n",
        "  \n",
        "  #' @return the empirical risk of a parameter vector theta\n",
        "  emp_risk <- function(theta){\n",
        "    sum((log(y) - log(apply(X,1,f,theta)))^2)\n",
        "  }\n",
        " \n",
        "  return( \n",
        "    optim(c(0.4,0.5), \n",
        "          emp_risk, \n",
        "          method = \"L-BFGS-B\", \n",
        "          lower=c(0,-Inf), \n",
        "          upper=c(Inf,Inf))$par)\n",
        "  # note that c(0.4,0.5) can be replaced by any other theta vector \n",
        "  # satisfying the constraint theta[1]>0\n",
        "}\n",
        "\n",
        "# optimal coefficients\n",
        "hat_theta = optim_coeff(X,y)\n",
        "cat(\"hat_theta = \", hat_theta)"
      ],
      "id": "optim_coeff"
    },
    {
      "cell_type": "markdown",
      "metadata": {},
      "source": [
        "## Checking Forbes’ conjecture\n",
        "\n",
        "As we can see the conjecture is quite reasonable, and we experiance a\n",
        "big residual only for the point $x \\backsimeq  205$.\n",
        "\n",
        "Also, the Mean Absolute Percentage Error (MAPE) is only around $0.4\\%$.\n",
        "\n",
        "### Visually"
      ],
      "id": "8e9f6625-7498-42c5-84ce-53d21df188cd"
    },
    {
      "cell_type": "code",
      "execution_count": 6,
      "metadata": {
        "vscode": {
          "languageId": "r"
        }
      },
      "outputs": [
        {
          "output_type": "display_data",
          "metadata": {},
          "data": {
            "image/png": "[encoded data removed]"
          }
        }
      ],
      "source": [
        "f_x <- function(x, theta){\n",
        "  \n",
        "  return((theta[1] * exp(theta[2]*x)))\n",
        "  \n",
        "}\n",
        "\n",
        "curve(f_x(x,theta = hat_theta),min(bp),max(bp),xlab=\"x (bp)\",ylab=\"y (pres)\")\n",
        "points(pres~bp,col=2)"
      ],
      "id": "cell-forbes_visually"
    },
    {
      "cell_type": "markdown",
      "metadata": {},
      "source": [
        "### MAPE"
      ],
      "id": "7f9cec3f-c751-48ce-a5b9-edaab849f2e2"
    },
    {
      "cell_type": "code",
      "execution_count": 7,
      "metadata": {
        "vscode": {
          "languageId": "r"
        }
      },
      "outputs": [
        {
          "output_type": "stream",
          "name": "stdout",
          "text": [
            "Mean Absolute Percentage Error (MAPE): 0.4106409 %"
          ]
        }
      ],
      "source": [
        "mape <- function(X,y,theta){\n",
        "  y_hat = apply(X,1,f,theta)\n",
        "  perc_error = abs((y - y_hat)/y) * 100\n",
        "  return(mean(perc_error))\n",
        "}\n",
        "cat(\"Mean Absolute Percentage Error (MAPE):\", mape(X,y,hat_theta), \"%\\n\")"
      ],
      "id": "forbes_mape"
    },
    {
      "cell_type": "markdown",
      "metadata": {},
      "source": [
        "# Alternative solution\n",
        "\n",
        "Luckily, we had derived an analytic solution earlier, and given that\n",
        "dataset size is quite small, we can directly apply it."
      ],
      "id": "9123af2c-90f7-414e-9672-17cf7d713b77"
    },
    {
      "cell_type": "code",
      "execution_count": 8,
      "metadata": {
        "vscode": {
          "languageId": "r"
        }
      },
      "outputs": [
        {
          "output_type": "display_data",
          "metadata": {},
          "data": {
            "image/png": "[encoded data removed]"
          }
        }
      ],
      "source": [
        "hat_theta_2 = cov(bp,log(pres))/(var(bp)) \n",
        "hat_theta_1 = exp(mean(log(pres))-hat_theta_2*mean(bp))\n",
        "\n",
        "curve(f_x(x,theta = hat_theta),min(bp),max(bp),xlab=\"x (bp)\",ylab=\"y (pres)\")\n",
        "curve(f_x(x,theta = c(hat_theta_1,hat_theta_2)),min(bp),max(bp),add=T,col=2)\n",
        "points(pres~bp)"
      ],
      "id": "cell-analytical_solution"
    },
    {
      "cell_type": "markdown",
      "metadata": {},
      "source": [
        "# Full code"
      ],
      "id": "336da353-f8ae-40e2-9b5e-86936f2f5c65"
    },
    {
      "cell_type": "code",
      "execution_count": 9,
      "metadata": {
        "vscode": {
          "languageId": "r"
        }
      },
      "outputs": [
        {
          "output_type": "stream",
          "name": "stderr",
          "text": [
            "The following objects are masked from forbes (pos = 3):\n",
            "\n",
            "    bp, pres\n",
            "\n"
          ]
        },
        {
          "output_type": "stream",
          "name": "stdout",
          "text": [
            "hat_theta =  0.3805097 0.02059961 \n",
            "Mean Absolute Percentage Error (MAPE): 0.4106409 %"
          ]
        },
        {
          "output_type": "display_data",
          "metadata": {},
          "data": {
            "image/png": "[encoded data removed]"
          }
        },
        {
          "output_type": "display_data",
          "metadata": {},
          "data": {
            "image/png": "[encoded data removed]"
          }
        }
      ],
      "source": [
        "#' @param X the feature input matrix X\n",
        "#' @param y the outcome vector y\n",
        "#' @param theta parameter vector for the model (2-dimensional)\n",
        "        \n",
        "# Load MASS and data set forbes\n",
        "library(MASS)\n",
        "data(forbes)\n",
        "attach(forbes)\n",
        "\n",
        "# initialize the data set\n",
        "X = cbind(rep(1,17),bp)\n",
        "y = pres\n",
        "\n",
        "# ---------- model_equation -----------------\n",
        "#' function to represent your models via the parameter vector theta = c(theta_1, theta_2)\n",
        "#' @return a predicted label y_hat for x\n",
        "f <- function(x, theta){\n",
        "  # Recall that x[1] is always 1 and x[2] is the feature value (bp)\n",
        "  y_hat <- theta[1] * exp(theta[2]*x[2])\n",
        "  \n",
        "  return(y_hat)\n",
        "}\n",
        "\n",
        "# ------------- optim_coeff -----------------\n",
        "\n",
        "#' @return a vector consisting of the optimal parameter vector \n",
        "optim_coeff <- function(X,y){\n",
        "  \n",
        "  #' @return the empirical risk of a parameter vector theta\n",
        "  emp_risk <- function(theta){\n",
        "    sum((log(y) - log(apply(X,1,f,theta)))^2)\n",
        "  }\n",
        " \n",
        "  return( \n",
        "    optim(c(0.4,0.5), \n",
        "          emp_risk, \n",
        "          method = \"L-BFGS-B\", \n",
        "          lower=c(0,-Inf), \n",
        "          upper=c(Inf,Inf))$par)\n",
        "  # note that c(0.4,0.5) can be replaced by any other theta vector \n",
        "  # satisfying the constraint theta[1]>0\n",
        "}\n",
        "\n",
        "# optimal coefficients\n",
        "hat_theta = optim_coeff(X,y)\n",
        "cat(\"hat_theta = \", hat_theta, \"\\n\")\n",
        "\n",
        "# ------------ forbes_visually -----------------\n",
        "\n",
        "f_x <- function(x, theta){\n",
        "  \n",
        "  return((theta[1] * exp(theta[2]*x)))\n",
        "  \n",
        "}\n",
        "\n",
        "curve(f_x(x,theta = hat_theta),min(bp),max(bp),xlab=\"x (bp)\",ylab=\"y (pres)\")\n",
        "points(pres~bp,col=2)\n",
        "\n",
        "# ------------ forbes_mape -----------------\n",
        "\n",
        "avg_perc_error <- function(X,y,theta){\n",
        "  y_hat = apply(X,1,f,theta)\n",
        "  perc_error = abs((y - y_hat)/y) * 100\n",
        "  return(mean(perc_error))\n",
        "}\n",
        "\n",
        "cat(\"Mean Absolute Percentage Error (MAPE):\", mape(X,y,hat_theta), \"%\\n\")\n",
        "\n",
        "# ------------ analytical_solution -----------------\n",
        "hat_theta_2 = cov(bp,log(pres))/(var(bp)) \n",
        "hat_theta_1 = exp(mean(log(pres))-hat_theta_2*mean(bp))\n",
        "\n",
        "curve(f_x(x,theta = hat_theta),min(bp),max(bp),xlab=\"x (bp)\",ylab=\"y (pres)\")\n",
        "curve(f_x(x,theta = c(hat_theta_1,hat_theta_2)),min(bp),max(bp),add=T,col=2)\n",
        "points(pres~bp)"
      ],
      "id": "full_code"
    }
  ],
  "nbformat": 4,
  "nbformat_minor": 5,
  "metadata": {
    "kernelspec": {
      "name": "ir",
      "display_name": "R",
      "language": "R"
    },
    "language_info": {
      "name": "R",
      "codemirror_mode": "r",
      "file_extension": ".r",
      "mimetype": "text/x-r-source",
      "pygments_lexer": "r",
      "version": "4.4.1"
    }
  }
}