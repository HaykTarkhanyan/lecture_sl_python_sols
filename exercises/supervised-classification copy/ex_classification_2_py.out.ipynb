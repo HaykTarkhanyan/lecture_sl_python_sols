{
  "cells": [
    {
      "cell_type": "markdown",
      "metadata": {},
      "source": [
        "# \n",
        "\n",
        "------------------------------------------------------------------------\n",
        "\n",
        "**Introduction to Machine Learning** <br>\n",
        "**<https://slds-lmu.github.io/i2ml/>** \\*\\*\\*\n",
        "\n",
        "# Exercise sheet 4: Supervised Classification"
      ],
      "id": "fa56b674-0187-4f5f-bb19-5979db8fd1cb"
    },
    {
      "cell_type": "code",
      "execution_count": 1,
      "metadata": {},
      "outputs": [],
      "source": [
        "# Consider the following libraries for this exercise sheet:\n",
        "\n",
        "# general\n",
        "import numpy as np\n",
        "import pandas as pd\n",
        "from scipy.stats import norm\n",
        "# plotting\n",
        "import matplotlib.pyplot as plt\n",
        "import seaborn as sns\n",
        "# sklearn\n",
        "from sklearn.naive_bayes import CategoricalNB # import Naive Bayes Classifier for categorial distributed features\n",
        "from sklearn.naive_bayes import GaussianNB # import Naive Bayes Classifier for normal distributed features\n",
        "from sklearn.preprocessing import OrdinalEncoder\n",
        "from sklearn.preprocessing import LabelEncoder\n",
        "from sklearn.discriminant_analysis import LinearDiscriminantAnalysis as LDA\n",
        "from sklearn.discriminant_analysis import QuadraticDiscriminantAnalysis as QDA\n",
        "from sklearn.inspection import DecisionBoundaryDisplay\n",
        "from sklearn.metrics import confusion_matrix\n",
        "from sklearn.metrics import precision_recall_fscore_support"
      ],
      "id": "import"
    },
    {
      "cell_type": "markdown",
      "metadata": {},
      "source": [
        "## Exercise 1: Naive Bayes\n",
        "\n",
        "You are given the following table with the target variable `Banana`:\n",
        "\n",
        "| ID  | Color  | Form   | Origin   | Banana |\n",
        "|-----|--------|--------|----------|--------|\n",
        "| 1   | yellow | oblong | imported | yes    |\n",
        "| 2   | yellow | round  | domestic | no     |\n",
        "| 3   | yellow | oblong | imported | no     |\n",
        "| 4   | brown  | oblong | imported | yes    |\n",
        "| 5   | brown  | round  | domestic | no     |\n",
        "| 6   | green  | round  | imported | yes    |\n",
        "| 7   | green  | oblong | domestic | no     |\n",
        "| 8   | red    | round  | imported | no     |\n",
        "\n",
        "> 1.  We want to use a Naive Bayes classifier to predict whether a new\n",
        ">     fruit is a Banana or not. Estimate the posterior probability\n",
        ">     $\\hat{\\pi}(\\mathbf{x}_*)$ for a new observation\n",
        ">     $\\mathbf{x}_* = (yellow,round, imported)$. How would you classify\n",
        ">     the object?"
      ],
      "id": "928921bb-7c01-4761-b012-085cbc1b4730"
    },
    {
      "cell_type": "code",
      "execution_count": 2,
      "metadata": {},
      "outputs": [],
      "source": [
        "# Enter your code here:"
      ],
      "id": "70be7d5d"
    },
    {
      "cell_type": "markdown",
      "metadata": {},
      "source": [
        "> 1.  Assume you have an additional feature Length that measures the\n",
        ">     length in cm. Describe in 1-2 sentences how you would handle this\n",
        ">     numeric feature with Naive Bayes.\n",
        "\n",
        "> **\\# Enter your answer here:**\n",
        "\n",
        "## Exercise 2: Discriminant Analysis\n",
        "\n",
        "<figure>\n",
        "<img\n",
        "src=\"attachment:ex_classification_2_py_files/figure-ipynb/1d2dd79b-1-unnamed-chunk-4-1-1.png\"\n",
        "alt=\"unnamed-chunk-4-1-1.png\" />\n",
        "<figcaption aria-hidden=\"true\">unnamed-chunk-4-1-1.png</figcaption>\n",
        "</figure>\n",
        "\n",
        "The above plot shows\n",
        "$\\mathcal{D} = \\left( (\\mathbf{x}^{(1)}, y^{(1)}), \\dots, (\\mathbf{x}^{(n)}, y^{(n)}) \\right)$,\n",
        "a data set with $n = 200$ observations of a continuous target variable\n",
        "$y$ and a continuous, 1-dimensional feature variable $\\mathbf{x}$. In\n",
        "the following, we aim at predicting $y$ with a machine learning model\n",
        "that takes $\\mathbf{x}$ as input.\n",
        "\n",
        "> 1.  To prepare the data for classification, we categorize the target\n",
        ">     variable $y$ in $3$ classes and call the transformed target\n",
        ">     variable $z$, as follows:\n",
        "\n",
        "$$\n",
        "    z^{(i)} = \n",
        "    \\begin{cases}\n",
        "      1, &  y^{(i)} \\in (-\\infty, 2.5] \\\\\n",
        "      2, &  y^{(i)} \\in (2.5, 3.5] \\\\\n",
        "      3, &  y^{(i)} \\in (3.5, \\infty)\n",
        "    \\end{cases}\n",
        "  $$ \\> Now we can apply quadratic discriminant analysis (QDA):\n",
        "\n",
        "> > 1.  Estimate the class means $\\mu_k = E(\\mathbf{x}| z = k)$ for each\n",
        "> >     of the three classes $k \\in \\{1, 2, 3\\}$ visually from the plot.\n",
        "> >     Do not overcomplicate this, a rough estimate is sufficient here.\n",
        "> >     <br>\n",
        "\n",
        "> > **\\# Enter your answer here:** <br>\n",
        "\n",
        "> > 1.  Make a plot that visualizes the different estimated densities\n",
        "> >     per class"
      ],
      "attachments": {
        "ex_classification_2_py_files/figure-ipynb/1d2dd79b-1-unnamed-chunk-4-1-1.png": {
          "image/png": "[encoded data removed]"
        }
      },
      "id": "60924717-e7b0-4b9f-a338-ef9505108a5f"
    },
    {
      "cell_type": "code",
      "execution_count": 3,
      "metadata": {},
      "outputs": [],
      "source": [
        "# Enter your code here:"
      ],
      "id": "119066d3"
    },
    {
      "cell_type": "markdown",
      "metadata": {},
      "source": [
        "> > 1.  How would your plot from ii) change if we used linear\n",
        "> >     discriminant analysis (LDA) instead of QDA? Explain your answer.\n",
        "> >     <br>\n",
        "\n",
        "> > **\\# Enter your answer here:** <br>\n",
        "\n",
        "> > 1.  Why is QDA preferable over LDA for this data?\n",
        "\n",
        "> > **\\# Enter your answer here:**\n",
        "\n",
        "> 1.  Given are two new observations $\\mathbf{x}_{∗1} = −10$ and\n",
        ">     $\\mathbf{x}_{∗2} = 7$. State the prediction for QDA and explain\n",
        ">     how you arrive there.\n",
        "\n",
        "> **\\# Enter your answer here:**\n",
        "\n",
        "## Exercise 3: Decision Boundaries for Classification Learners\n",
        "\n",
        "We will now visualize how well different learners classify the\n",
        "three-class `cassini` data set. Import `cassini_data.csv`. Then, perturb\n",
        "the `x.2` dimension with Gaussian noise (mean $0$, standard deviation\n",
        "$0.5$), and consider the classifiers already introduced in the lecture:\n",
        "\n",
        "-   LDA,\n",
        "-   QDA, and\n",
        "-   Naive Bayes.\n",
        "\n",
        "Plot the learners’ decision boundaries. Can you spot differences in\n",
        "separation ability? <br> (Note that logistic regression cannot handle\n",
        "more than two classes and is therefore not listed here.)"
      ],
      "id": "1a8ed4d4-ca7e-45b5-b075-097a321d470f"
    },
    {
      "cell_type": "code",
      "execution_count": 4,
      "metadata": {},
      "outputs": [],
      "source": [
        "# read in the CSV file:\n",
        "cassini = pd.read_csv('https://raw.githubusercontent.com/slds-lmu/lecture_i2ml/master/exercises/data/cassini_data.csv')\n",
        "\n",
        "# Enter your code here:"
      ],
      "id": "f7f0d62b"
    }
  ],
  "nbformat": 4,
  "nbformat_minor": 5,
  "metadata": {
    "kernelspec": {
      "name": "python-i2ml",
      "display_name": "Python (I2ML)",
      "language": "python"
    }
  }
}